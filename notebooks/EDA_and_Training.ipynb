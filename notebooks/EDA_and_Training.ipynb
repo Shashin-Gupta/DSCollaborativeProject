{
 "cells": [
  {
   "cell_type": "markdown",
   "id": "87e0c665",
   "metadata": {},
   "source": [
    "## 1. Title & Description\n",
    "**Lung Nodule Detection EDA**  \n",
    "This notebook explores the LIDC-IDRI data:  \n",
    "- Class balance  \n",
    "- Example CT slices  \n",
    "- Intensity distributions  "
   ]
  },
  {
   "cell_type": "markdown",
   "id": "b4df4194",
   "metadata": {},
   "source": [
    "## 2. Imports"
   ]
  },
  {
   "cell_type": "code",
   "execution_count": 2,
   "id": "3398df37",
   "metadata": {},
   "outputs": [
    {
     "name": "stdout",
     "output_type": "stream",
     "text": [
      "Current directory: /Users/owenfeng/Documents/DSCollaborativeProject/notebooks\n",
      "['.DS_Store', 'README.md', 'Patient_Diagnosis']\n"
     ]
    }
   ],
   "source": [
    "# %%\n",
    "import os\n",
    "import glob\n",
    "import pandas as pd\n",
    "import numpy as np\n",
    "import pydicom\n",
    "import matplotlib.pyplot as plt\n",
    "import seaborn as sns\n",
    "import boto3\n",
    "\n",
    "from tqdm import tqdm\n",
    "\n",
    "# Check if 'data' directory exists and list its contents\n",
    "print(\"Current directory:\", os.getcwd())\n",
    "print(os.listdir('../data'))\n",
    "\n",
    "# set plots inline\n",
    "%matplotlib inline"
   ]
  },
  {
   "cell_type": "markdown",
   "id": "9df1a243",
   "metadata": {},
   "source": [
    "## 3. Load Annotations & Class Balance"
   ]
  },
  {
   "cell_type": "code",
   "execution_count": 27,
   "id": "2738b214",
   "metadata": {},
   "outputs": [
    {
     "name": "stdout",
     "output_type": "stream",
     "text": [
      "        patientid  diagnosis  \\\n",
      "0  LIDC-IDRI-0068          3   \n",
      "1  LIDC-IDRI-0071          3   \n",
      "2  LIDC-IDRI-0072          2   \n",
      "3  LIDC-IDRI-0088          3   \n",
      "4  LIDC-IDRI-0090          2   \n",
      "\n",
      "   Diagnosis Method\\n0 = unknown\\n1 = review of radiological images to show 2 years of stable nodule\\n2 = biopsy\\n3 = surgical resection\\n4 = progression or response  \\\n",
      "0                                                  4                                                                                                                    \n",
      "1                                                  1                                                                                                                    \n",
      "2                                                  4                                                                                                                    \n",
      "3                                                  0                                                                                                                    \n",
      "4                                                  3                                                                                                                    \n",
      "\n",
      "  Primary tumor site for metastatic disease  \\\n",
      "0                        Head & Neck Cancer   \n",
      "1                              Head & Neck    \n",
      "2                               Lung Cancer   \n",
      "3                            Uterine Cancer   \n",
      "4                                     NSCLC   \n",
      "\n",
      "   Nodule 1\\nDiagnosis at the Nodule Level \\n0=Unknown\\n1=benign or non-malignant disease\\n2= malignant, primary lung cancer\\n3 = malignant metastatic)\\n  \\\n",
      "0                                                3.0                                                                                                        \n",
      "1                                                1.0                                                                                                        \n",
      "2                                                1.0                                                                                                        \n",
      "3                                                0.0                                                                                                        \n",
      "4                                                2.0                                                                                                        \n",
      "\n",
      "   Nodule 1\\nDiagnosis Method at the Nodule Level\\n0 = unknown\\n1 = review of radiological images to show 2 years of stable nodule\\n2 = biopsy\\n3 = surgical resection\\n4 = progression or response\\n  \\\n",
      "0                                                4.0                                                                                                                                                    \n",
      "1                                                1.0                                                                                                                                                    \n",
      "2                                                4.0                                                                                                                                                    \n",
      "3                                                0.0                                                                                                                                                    \n",
      "4                                                3.0                                                                                                                                                    \n",
      "\n",
      "   Nodule 2\\nDiagnosis at the Nodule Level \\n0=Unknown\\n1=benign or non-malignant disease\\n2= malignant, primary lung cancer\\n3 = malignant metastatic)\\n  \\\n",
      "0                                                NaN                                                                                                        \n",
      "1                                                NaN                                                                                                        \n",
      "2                                                NaN                                                                                                        \n",
      "3                                                NaN                                                                                                        \n",
      "4                                                NaN                                                                                                        \n",
      "\n",
      "   Nodule 2\\nDiagnosis Method at the Nodule Level\\n0 = unknown\\n1 = review of radiological images to show 2 years of stable nodule\\n2 = biopsy\\n3 = surgical resection\\n4 = progression or response\\n  \\\n",
      "0                                                NaN                                                                                                                                                    \n",
      "1                                                NaN                                                                                                                                                    \n",
      "2                                                NaN                                                                                                                                                    \n",
      "3                                                NaN                                                                                                                                                    \n",
      "4                                                NaN                                                                                                                                                    \n",
      "\n",
      "  Nodule 3\\nDiagnosis at the Nodule Level \\n0=Unknown\\n1=benign or non-malignant disease\\n2= malignant, primary lung cancer\\n3 = malignant metastatic)\\n  \\\n",
      "0                                                NaN                                                                                                       \n",
      "1                                                NaN                                                                                                       \n",
      "2                                                NaN                                                                                                       \n",
      "3                                                NaN                                                                                                       \n",
      "4                                                NaN                                                                                                       \n",
      "\n",
      "  Nodule 3\\nDiagnosis Method at the Nodule Level\\n0 = unknown\\n1 = review of radiological images to show 2 years of stable nodule\\n2 = biopsy\\n3 = surgical resection\\n4 = progression or response\\n  \\\n",
      "0                                                NaN                                                                                                                                                   \n",
      "1                                                NaN                                                                                                                                                   \n",
      "2                                                NaN                                                                                                                                                   \n",
      "3                                                NaN                                                                                                                                                   \n",
      "4                                                NaN                                                                                                                                                   \n",
      "\n",
      "   Nodule 4\\nDiagnosis at the Nodule Level \\n0=Unknown\\n1=benign or non-malignant disease\\n2= malignant, primary lung cancer\\n3 = malignant metastatic)\\n  \\\n",
      "0                                                NaN                                                                                                        \n",
      "1                                                NaN                                                                                                        \n",
      "2                                                NaN                                                                                                        \n",
      "3                                                NaN                                                                                                        \n",
      "4                                                NaN                                                                                                        \n",
      "\n",
      "   Nodule 4\\nDiagnosis Method at the Nodule Level\\n0 = unknown\\n1 = review of radiological images to show 2 years of stable nodule\\n2 = biopsy\\n3 = surgical resection\\n4 = progression or response\\n  \\\n",
      "0                                                NaN                                                                                                                                                    \n",
      "1                                                NaN                                                                                                                                                    \n",
      "2                                                NaN                                                                                                                                                    \n",
      "3                                                NaN                                                                                                                                                    \n",
      "4                                                NaN                                                                                                                                                    \n",
      "\n",
      "   Nodule 5\\nDiagnosis at the Nodule Level \\n0=Unknown\\n1=benign or non-malignant disease\\n2= malignant, primary lung cancer\\n3 = malignant metastatic)\\n  \\\n",
      "0                                                NaN                                                                                                        \n",
      "1                                                NaN                                                                                                        \n",
      "2                                                NaN                                                                                                        \n",
      "3                                                NaN                                                                                                        \n",
      "4                                                NaN                                                                                                        \n",
      "\n",
      "   Nodule 5\\nDiagnosis Method at the Nodule Level\\n0 = unknown\\n1 = review of radiological images to show 2 years of stable nodule\\n2 = biopsy\\n3 = surgical resection\\n4 = progression or response\\n  \n",
      "0                                                NaN                                                                                                                                                   \n",
      "1                                                NaN                                                                                                                                                   \n",
      "2                                                NaN                                                                                                                                                   \n",
      "3                                                NaN                                                                                                                                                   \n",
      "4                                                NaN                                                                                                                                                   \n"
     ]
    },
    {
     "data": {
      "text/plain": [
       "<Axes: title={'center': 'Grouped Class Balance'}>"
      ]
     },
     "execution_count": 27,
     "metadata": {},
     "output_type": "execute_result"
    },
    {
     "data": {
      "image/png": "[encoded data removed]",
      "text/plain": [
       "<Figure size 640x480 with 1 Axes>"
      ]
     },
     "metadata": {},
     "output_type": "display_data"
    }
   ],
   "source": [
    "# adjust path if you used a different name\n",
    "ann = pd.read_excel('../data/Patient_Diagnosis')\n",
    "ann = ann.rename(columns={\n",
    "    'Diagnosis at the Patient Level\\n0=Unknown\\n1=benign or non-malignant disease\\n2= malignant, primary lung cancer\\n3 = malignant metastatic\\n': 'diagnosis',\n",
    "    'TCIA Patient ID': 'patientid'\n",
    "})\n",
    "print(ann.head())\n",
    "\n",
    "# class counts\n",
    "ann['grouped_label'] = ann['diagnosis'].replace({\n",
    "    0: 'No Nodule',\n",
    "    1: 'Nodule',\n",
    "    2: 'Nodule',\n",
    "    3: 'Nodule'\n",
    "})\n",
    "\n",
    "counts = ann['grouped_label'].value_counts()\n",
    "\n",
    "counts.plot.pie(autopct='%.1f%%', title='Grouped Class Balance', ylabel='')"
   ]
  },
  {
   "cell_type": "markdown",
   "id": "0e9282df",
   "metadata": {},
   "source": [
    "## 4. Sample CT Slice Visualization"
   ]
  },
  {
   "cell_type": "code",
   "execution_count": 28,
   "id": "57f16137",
   "metadata": {},
   "outputs": [
    {
     "name": "stdout",
     "output_type": "stream",
     "text": [
      "NEGGAR ['LIDC-IDRI-0068' 'LIDC-IDRI-0071' 'LIDC-IDRI-0072' 'LIDC-IDRI-0088']\n",
      "PREEM manifest-1748043659198/LIDC-IDRI/LIDC-IDRI-0173\n",
      "HELLO??\n",
      "RESPONSEY dict_keys(['ResponseMetadata', 'IsTruncated', 'Name', 'Prefix', 'MaxKeys', 'EncodingType', 'KeyCount'])\n"
     ]
    },
    {
     "ename": "TypeError",
     "evalue": "Image data of dtype object cannot be converted to float",
     "output_type": "error",
     "traceback": [
      "\u001b[31m---------------------------------------------------------------------------\u001b[39m",
      "\u001b[31mTypeError\u001b[39m                                 Traceback (most recent call last)",
      "\u001b[36mCell\u001b[39m\u001b[36m \u001b[39m\u001b[32mIn[28]\u001b[39m\u001b[32m, line 44\u001b[39m\n\u001b[32m     41\u001b[39m \u001b[38;5;28mprint\u001b[39m(\u001b[33m'\u001b[39m\u001b[33mNEGGAR\u001b[39m\u001b[33m'\u001b[39m, neg_ids)\n\u001b[32m     43\u001b[39m \u001b[38;5;28;01mfor\u001b[39;00m ax, pid \u001b[38;5;129;01min\u001b[39;00m \u001b[38;5;28mzip\u001b[39m(axes[\u001b[32m0\u001b[39m], pos_ids):\n\u001b[32m---> \u001b[39m\u001b[32m44\u001b[39m     \u001b[43max\u001b[49m\u001b[43m.\u001b[49m\u001b[43mimshow\u001b[49m\u001b[43m(\u001b[49m\u001b[43mload_central_slice\u001b[49m\u001b[43m(\u001b[49m\u001b[43mpid\u001b[49m\u001b[43m)\u001b[49m\u001b[43m,\u001b[49m\u001b[43m \u001b[49m\u001b[43mcmap\u001b[49m\u001b[43m=\u001b[49m\u001b[33;43m'\u001b[39;49m\u001b[33;43mgray\u001b[39;49m\u001b[33;43m'\u001b[39;49m\u001b[43m)\u001b[49m\n\u001b[32m     45\u001b[39m     ax.set_title(\u001b[33mf\u001b[39m\u001b[33m'\u001b[39m\u001b[33mPatient \u001b[39m\u001b[38;5;132;01m{\u001b[39;00mpid\u001b[38;5;132;01m}\u001b[39;00m\u001b[38;5;130;01m\\n\u001b[39;00m\u001b[33mLabel=1\u001b[39m\u001b[33m'\u001b[39m)\n\u001b[32m     46\u001b[39m     ax.axis(\u001b[33m'\u001b[39m\u001b[33moff\u001b[39m\u001b[33m'\u001b[39m)\n",
      "\u001b[36mFile \u001b[39m\u001b[32m/Library/Frameworks/Python.framework/Versions/3.12/lib/python3.12/site-packages/matplotlib/__init__.py:1473\u001b[39m, in \u001b[36m_preprocess_data.<locals>.inner\u001b[39m\u001b[34m(ax, data, *args, **kwargs)\u001b[39m\n\u001b[32m   1470\u001b[39m \u001b[38;5;129m@functools\u001b[39m.wraps(func)\n\u001b[32m   1471\u001b[39m \u001b[38;5;28;01mdef\u001b[39;00m\u001b[38;5;250m \u001b[39m\u001b[34minner\u001b[39m(ax, *args, data=\u001b[38;5;28;01mNone\u001b[39;00m, **kwargs):\n\u001b[32m   1472\u001b[39m     \u001b[38;5;28;01mif\u001b[39;00m data \u001b[38;5;129;01mis\u001b[39;00m \u001b[38;5;28;01mNone\u001b[39;00m:\n\u001b[32m-> \u001b[39m\u001b[32m1473\u001b[39m         \u001b[38;5;28;01mreturn\u001b[39;00m \u001b[43mfunc\u001b[49m\u001b[43m(\u001b[49m\n\u001b[32m   1474\u001b[39m \u001b[43m            \u001b[49m\u001b[43max\u001b[49m\u001b[43m,\u001b[49m\n\u001b[32m   1475\u001b[39m \u001b[43m            \u001b[49m\u001b[43m*\u001b[49m\u001b[38;5;28;43mmap\u001b[39;49m\u001b[43m(\u001b[49m\u001b[43msanitize_sequence\u001b[49m\u001b[43m,\u001b[49m\u001b[43m \u001b[49m\u001b[43margs\u001b[49m\u001b[43m)\u001b[49m\u001b[43m,\u001b[49m\n\u001b[32m   1476\u001b[39m \u001b[43m            \u001b[49m\u001b[43m*\u001b[49m\u001b[43m*\u001b[49m\u001b[43m{\u001b[49m\u001b[43mk\u001b[49m\u001b[43m:\u001b[49m\u001b[43m \u001b[49m\u001b[43msanitize_sequence\u001b[49m\u001b[43m(\u001b[49m\u001b[43mv\u001b[49m\u001b[43m)\u001b[49m\u001b[43m \u001b[49m\u001b[38;5;28;43;01mfor\u001b[39;49;00m\u001b[43m \u001b[49m\u001b[43mk\u001b[49m\u001b[43m,\u001b[49m\u001b[43m \u001b[49m\u001b[43mv\u001b[49m\u001b[43m \u001b[49m\u001b[38;5;129;43;01min\u001b[39;49;00m\u001b[43m \u001b[49m\u001b[43mkwargs\u001b[49m\u001b[43m.\u001b[49m\u001b[43mitems\u001b[49m\u001b[43m(\u001b[49m\u001b[43m)\u001b[49m\u001b[43m}\u001b[49m\u001b[43m)\u001b[49m\n\u001b[32m   1478\u001b[39m     bound = new_sig.bind(ax, *args, **kwargs)\n\u001b[32m   1479\u001b[39m     auto_label = (bound.arguments.get(label_namer)\n\u001b[32m   1480\u001b[39m                   \u001b[38;5;129;01mor\u001b[39;00m bound.kwargs.get(label_namer))\n",
      "\u001b[36mFile \u001b[39m\u001b[32m/Library/Frameworks/Python.framework/Versions/3.12/lib/python3.12/site-packages/matplotlib/axes/_axes.py:5895\u001b[39m, in \u001b[36mAxes.imshow\u001b[39m\u001b[34m(self, X, cmap, norm, aspect, interpolation, alpha, vmin, vmax, origin, extent, interpolation_stage, filternorm, filterrad, resample, url, **kwargs)\u001b[39m\n\u001b[32m   5892\u001b[39m \u001b[38;5;28;01mif\u001b[39;00m aspect \u001b[38;5;129;01mis\u001b[39;00m \u001b[38;5;129;01mnot\u001b[39;00m \u001b[38;5;28;01mNone\u001b[39;00m:\n\u001b[32m   5893\u001b[39m     \u001b[38;5;28mself\u001b[39m.set_aspect(aspect)\n\u001b[32m-> \u001b[39m\u001b[32m5895\u001b[39m \u001b[43mim\u001b[49m\u001b[43m.\u001b[49m\u001b[43mset_data\u001b[49m\u001b[43m(\u001b[49m\u001b[43mX\u001b[49m\u001b[43m)\u001b[49m\n\u001b[32m   5896\u001b[39m im.set_alpha(alpha)\n\u001b[32m   5897\u001b[39m \u001b[38;5;28;01mif\u001b[39;00m im.get_clip_path() \u001b[38;5;129;01mis\u001b[39;00m \u001b[38;5;28;01mNone\u001b[39;00m:\n\u001b[32m   5898\u001b[39m     \u001b[38;5;66;03m# image does not already have clipping set, clip to Axes patch\u001b[39;00m\n",
      "\u001b[36mFile \u001b[39m\u001b[32m/Library/Frameworks/Python.framework/Versions/3.12/lib/python3.12/site-packages/matplotlib/image.py:729\u001b[39m, in \u001b[36m_ImageBase.set_data\u001b[39m\u001b[34m(self, A)\u001b[39m\n\u001b[32m    727\u001b[39m \u001b[38;5;28;01mif\u001b[39;00m \u001b[38;5;28misinstance\u001b[39m(A, PIL.Image.Image):\n\u001b[32m    728\u001b[39m     A = pil_to_array(A)  \u001b[38;5;66;03m# Needed e.g. to apply png palette.\u001b[39;00m\n\u001b[32m--> \u001b[39m\u001b[32m729\u001b[39m \u001b[38;5;28mself\u001b[39m._A = \u001b[38;5;28;43mself\u001b[39;49m\u001b[43m.\u001b[49m\u001b[43m_normalize_image_array\u001b[49m\u001b[43m(\u001b[49m\u001b[43mA\u001b[49m\u001b[43m)\u001b[49m\n\u001b[32m    730\u001b[39m \u001b[38;5;28mself\u001b[39m._imcache = \u001b[38;5;28;01mNone\u001b[39;00m\n\u001b[32m    731\u001b[39m \u001b[38;5;28mself\u001b[39m.stale = \u001b[38;5;28;01mTrue\u001b[39;00m\n",
      "\u001b[36mFile \u001b[39m\u001b[32m/Library/Frameworks/Python.framework/Versions/3.12/lib/python3.12/site-packages/matplotlib/image.py:692\u001b[39m, in \u001b[36m_ImageBase._normalize_image_array\u001b[39m\u001b[34m(A)\u001b[39m\n\u001b[32m    690\u001b[39m A = cbook.safe_masked_invalid(A, copy=\u001b[38;5;28;01mTrue\u001b[39;00m)\n\u001b[32m    691\u001b[39m \u001b[38;5;28;01mif\u001b[39;00m A.dtype != np.uint8 \u001b[38;5;129;01mand\u001b[39;00m \u001b[38;5;129;01mnot\u001b[39;00m np.can_cast(A.dtype, \u001b[38;5;28mfloat\u001b[39m, \u001b[33m\"\u001b[39m\u001b[33msame_kind\u001b[39m\u001b[33m\"\u001b[39m):\n\u001b[32m--> \u001b[39m\u001b[32m692\u001b[39m     \u001b[38;5;28;01mraise\u001b[39;00m \u001b[38;5;167;01mTypeError\u001b[39;00m(\u001b[33mf\u001b[39m\u001b[33m\"\u001b[39m\u001b[33mImage data of dtype \u001b[39m\u001b[38;5;132;01m{\u001b[39;00mA.dtype\u001b[38;5;132;01m}\u001b[39;00m\u001b[33m cannot be \u001b[39m\u001b[33m\"\u001b[39m\n\u001b[32m    693\u001b[39m                     \u001b[33mf\u001b[39m\u001b[33m\"\u001b[39m\u001b[33mconverted to float\u001b[39m\u001b[33m\"\u001b[39m)\n\u001b[32m    694\u001b[39m \u001b[38;5;28;01mif\u001b[39;00m A.ndim == \u001b[32m3\u001b[39m \u001b[38;5;129;01mand\u001b[39;00m A.shape[-\u001b[32m1\u001b[39m] == \u001b[32m1\u001b[39m:\n\u001b[32m    695\u001b[39m     A = A.squeeze(-\u001b[32m1\u001b[39m)  \u001b[38;5;66;03m# If just (M, N, 1), assume scalar and apply colormap.\u001b[39;00m\n",
      "\u001b[31mTypeError\u001b[39m: Image data of dtype object cannot be converted to float"
     ]
    },
    {
     "data": {
      "image/png": "[encoded data removed]",
      "text/plain": [
       "<Figure size 1200x600 with 8 Axes>"
      ]
     },
     "metadata": {},
     "output_type": "display_data"
    }
   ],
   "source": [
    "from dotenv import load_dotenv\n",
    "\n",
    "load_dotenv()\n",
    "ACCESS_KEY = os.getenv('ACCESS_KEY')\n",
    "SECRET_KEY = os.getenv('SECRET_KEY')\n",
    "\n",
    "\n",
    "def load_central_slice(patient_id, bucket='ct-scan-project', prefix='manifest-1748043659198/LIDC-IDRI'):\n",
    "    s3 = boto3.client(\n",
    "        's3',\n",
    "        aws_access_key_id=ACCESS_KEY,\n",
    "        aws_secret_access_key=SECRET_KEY,\n",
    "        region_name='us-east-2'\n",
    "    )\n",
    "    folder_prefix = f'{prefix}/{patient_id}'\n",
    "    response = s3.list_objects_v2(Bucket=bucket, Prefix=folder_prefix)\n",
    "\n",
    "    files = [obj['Key'] for obj in response.get('Contents', []) if obj['Key'].endswith('.dcm')]\n",
    "    if not files:\n",
    "        return\n",
    "    else:\n",
    "        slices = []\n",
    "        for fp in files:\n",
    "            ds = pydicom.dcmread(fp)\n",
    "            slices.append((ds.InstanceNumber, ds.pixel_array.astype(np.float32)))\n",
    "        slices = [s for _, s in sorted(slices, key=lambda x: x[0])]\n",
    "        vol = np.stack([s for _, s in slices], axis=0)\n",
    "        img = vol[len(vol)//2]\n",
    "        # normalize to [0,1]\n",
    "        img = (img - img.min())/(img.max()-img.min())\n",
    "        return img\n",
    "\n",
    "# show 4 positives and 4 negatives\n",
    "fig, axes = plt.subplots(2,4, figsize=(12,6))\n",
    "pos_ids = ann[ann['diagnosis']==0]['patientid'].values[:4]\n",
    "neg_ids = ann[ann['diagnosis'].isin([1,2,3])]['patientid'].values[:4]\n",
    "print('NEGGAR', neg_ids)\n",
    "\n",
    "for ax, pid in zip(axes[0], pos_ids):\n",
    "    ax.imshow(load_central_slice(pid), cmap='gray')\n",
    "    ax.set_title(f'Patient {pid}\\nLabel=1')\n",
    "    ax.axis('off')\n",
    "\n",
    "for ax, nid in zip(axes[1], neg_ids):\n",
    "    ax.imshow(load_central_slice(nid), cmap='gray')\n",
    "    ax.set_title(f'Patient {nid}\\nLabel=0')\n",
    "    ax.axis('off')"
   ]
  },
  {
   "cell_type": "markdown",
   "id": "c898830b",
   "metadata": {},
   "source": [
    "## 5. Pixel-Intensity Histogram"
   ]
  },
  {
   "cell_type": "code",
   "execution_count": 1,
   "id": "0568d26d",
   "metadata": {},
   "outputs": [
    {
     "ename": "NameError",
     "evalue": "name 'pos_ids' is not defined",
     "output_type": "error",
     "traceback": [
      "\u001b[31m---------------------------------------------------------------------------\u001b[39m",
      "\u001b[31mNameError\u001b[39m                                 Traceback (most recent call last)",
      "\u001b[36mCell\u001b[39m\u001b[36m \u001b[39m\u001b[32mIn[1]\u001b[39m\u001b[32m, line 2\u001b[39m\n\u001b[32m      1\u001b[39m \u001b[38;5;66;03m# gather intensities from a small sample to avoid huge memory usage\u001b[39;00m\n\u001b[32m----> \u001b[39m\u001b[32m2\u001b[39m samples = \u001b[43mpos_ids\u001b[49m.tolist() + neg_ids.tolist()\n\u001b[32m      3\u001b[39m pixels = []\n\u001b[32m      4\u001b[39m \u001b[38;5;28;01mfor\u001b[39;00m pid \u001b[38;5;129;01min\u001b[39;00m tqdm(samples):\n",
      "\u001b[31mNameError\u001b[39m: name 'pos_ids' is not defined"
     ]
    }
   ],
   "source": [
    "# gather intensities from a small sample to avoid huge memory usage\n",
    "samples = pos_ids.tolist() + neg_ids.tolist()\n",
    "pixels = []\n",
    "for pid in tqdm(samples):\n",
    "    img = load_central_slice(pid)\n",
    "    pixels.extend(img.flatten())\n",
    "    \n",
    "plt.figure(figsize=(8,4))\n",
    "plt.hist(pixels, bins=50, alpha=0.7)\n",
    "plt.title('Intensity Distribution (Sample)')\n",
    "plt.xlabel('Normalized intensity')\n",
    "plt.ylabel('Frequency')"
   ]
  },
  {
   "cell_type": "markdown",
   "id": "8b547a85",
   "metadata": {},
   "source": [
    "## 6. Quick Training Sanity Check "
   ]
  },
  {
   "cell_type": "code",
   "execution_count": null,
   "id": "3881060b",
   "metadata": {},
   "outputs": [],
   "source": [
    "import torch\n",
    "from torch.utils.data import DataLoader\n",
    "from src.dataloader import LIDCDataset\n",
    "from src.model import NoduleClassifier\n",
    "\n",
    "# small one-batch test\n",
    "ds = LIDCDataset('../data/LIDC-IDRI', '../data/annotations.csv', transforms=None)\n",
    "dl = DataLoader(ds, batch_size=4, shuffle=True)\n",
    "imgs, labels = next(iter(dl))\n",
    "model = NoduleClassifier(pretrained=False)\n",
    "out = model(imgs)\n",
    "print('Output shape:', out.shape)  # should be [4,2]"
   ]
  }
 ],
 "metadata": {
  "kernelspec": {
   "display_name": ".venv",
   "language": "python",
   "name": "python3"
  },
  "language_info": {
   "codemirror_mode": {
    "name": "ipython",
    "version": 3
   },
   "file_extension": ".py",
   "mimetype": "text/x-python",
   "name": "python",
   "nbconvert_exporter": "python",
   "pygments_lexer": "ipython3",
   "version": "3.12.1"
  }
 },
 "nbformat": 4,
 "nbformat_minor": 5
}
