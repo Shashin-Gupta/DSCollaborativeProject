{
 "cells": [
  {
   "cell_type": "markdown",
   "id": "87e0c665",
   "metadata": {},
   "source": [
    "# ## 1. Title & Description\n",
    "**Lung Nodule Detection EDA**  \n",
    "This notebook explores the LIDC-IDRI data:  \n",
    "- Class balance  \n",
    "- Example CT slices  \n",
    "- Intensity distributions  "
   ]
  },
  {
   "cell_type": "markdown",
   "id": "b4df4194",
   "metadata": {},
   "source": [
    "# ## 2. Imports"
   ]
  },
  {
   "cell_type": "code",
   "execution_count": null,
   "id": "3398df37",
   "metadata": {},
   "outputs": [],
   "source": [
    "# %%\n",
    "import os\n",
    "import glob\n",
    "import pandas as pd\n",
    "import numpy as np\n",
    "import pydicom\n",
    "import matplotlib.pyplot as plt\n",
    "import seaborn as sns\n",
    "\n",
    "from tqdm import tqdm\n",
    "\n",
    "# set plots inline\n",
    "%matplotlib inline"
   ]
  },
  {
   "cell_type": "markdown",
   "id": "9df1a243",
   "metadata": {},
   "source": [
    "# ## 3. Load Annotations & Class Balance"
   ]
  },
  {
   "cell_type": "code",
   "execution_count": null,
   "id": "2738b214",
   "metadata": {},
   "outputs": [],
   "source": [
    "# adjust path if you used a different name\n",
    "ann = pd.read_csv('../data/annotations.csv')\n",
    "print(ann.head())\n",
    "\n",
    "# class counts\n",
    "counts = ann['label'].value_counts().rename(index={0:'No Nodule',1:'Nodule'})\n",
    "print(counts)\n",
    "counts.plot.pie(autopct='%.1f%%', title='Class Balance', ylabel='')"
   ]
  },
  {
   "cell_type": "markdown",
   "id": "0e9282df",
   "metadata": {},
   "source": [
    "## 4. Sample CT Slice Visualization"
   ]
  },
  {
   "cell_type": "code",
   "execution_count": null,
   "id": "57f16137",
   "metadata": {},
   "outputs": [],
   "source": [
    "def load_central_slice(patient_id, data_dir='../data/LIDC-IDRI'):\n",
    "    folder = os.path.join(data_dir, str(patient_id))\n",
    "    files = glob.glob(os.path.join(folder, '*.dcm'))\n",
    "    slices = []\n",
    "    for fp in files:\n",
    "        ds = pydicom.dcmread(fp)\n",
    "        slices.append((ds.InstanceNumber, ds.pixel_array.astype(np.float32)))\n",
    "    slices = [s for _, s in sorted(slices, key=lambda x: x[0])]\n",
    "    vol = np.stack([s for _, s in slices], axis=0)\n",
    "    img = vol[len(vol)//2]\n",
    "    # normalize to [0,1]\n",
    "    img = (img - img.min())/(img.max()-img.min())\n",
    "    return img\n",
    "\n",
    "# show 4 positives and 4 negatives\n",
    "fig, axes = plt.subplots(2,4, figsize=(12,6))\n",
    "pos_ids = ann[ann.label==1].patientid.values[:4]\n",
    "neg_ids = ann[ann.label==0].patientid.values[:4]\n",
    "\n",
    "for ax, pid in zip(axes[0], pos_ids):\n",
    "    ax.imshow(load_central_slice(pid), cmap='gray')\n",
    "    ax.set_title(f'Patient {pid}\\nLabel=1')\n",
    "    ax.axis('off')\n",
    "\n",
    "for ax, pid in zip(axes[1], neg_ids):\n",
    "    ax.imshow(load_central_slice(pid), cmap='gray')\n",
    "    ax.set_title(f'Patient {pid}\\nLabel=0')\n",
    "    ax.axis('off')"
   ]
  },
  {
   "cell_type": "markdown",
   "id": "c898830b",
   "metadata": {},
   "source": [
    "## 5. Pixel-Intensity Histogram"
   ]
  },
  {
   "cell_type": "code",
   "execution_count": null,
   "id": "0568d26d",
   "metadata": {},
   "outputs": [],
   "source": [
    "# gather intensities from a small sample to avoid huge memory usage\n",
    "samples = pos_ids.tolist() + neg_ids.tolist()\n",
    "pixels = []\n",
    "for pid in tqdm(samples):\n",
    "    img = load_central_slice(pid)\n",
    "    pixels.extend(img.flatten())\n",
    "    \n",
    "plt.figure(figsize=(8,4))\n",
    "plt.hist(pixels, bins=50, alpha=0.7)\n",
    "plt.title('Intensity Distribution (Sample)')\n",
    "plt.xlabel('Normalized intensity')\n",
    "plt.ylabel('Frequency')"
   ]
  },
  {
   "cell_type": "markdown",
   "id": "8b547a85",
   "metadata": {},
   "source": [
    "## 6. Quick Training Sanity Check "
   ]
  },
  {
   "cell_type": "code",
   "execution_count": null,
   "id": "3881060b",
   "metadata": {},
   "outputs": [],
   "source": [
    "import torch\n",
    "from torch.utils.data import DataLoader\n",
    "from src.dataloader import LIDCDataset\n",
    "from src.model import NoduleClassifier\n",
    "\n",
    "# small one-batch test\n",
    "ds = LIDCDataset('../data/LIDC-IDRI', '../data/annotations.csv', transforms=None)\n",
    "dl = DataLoader(ds, batch_size=4, shuffle=True)\n",
    "imgs, labels = next(iter(dl))\n",
    "model = NoduleClassifier(pretrained=False)\n",
    "out = model(imgs)\n",
    "print('Output shape:', out.shape)  # should be [4,2]"
   ]
  }
 ],
 "metadata": {
  "kernelspec": {
   "display_name": ".venv",
   "language": "python",
   "name": "python3"
  },
  "language_info": {
   "name": "python",
   "version": "3.10.5"
  }
 },
 "nbformat": 4,
 "nbformat_minor": 5
}
